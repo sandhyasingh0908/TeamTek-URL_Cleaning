{
  "nbformat": 4,
  "nbformat_minor": 0,
  "metadata": {
    "colab": {
      "provenance": [],
      "include_colab_link": true
    },
    "kernelspec": {
      "name": "python3",
      "display_name": "Python 3"
    },
    "language_info": {
      "name": "python"
    }
  },
  "cells": [
    {
      "cell_type": "markdown",
      "metadata": {
        "id": "view-in-github",
        "colab_type": "text"
      },
      "source": [
        "<a href=\"https://colab.research.google.com/github/sandhyasingh0908/TeamTek-URL_Cleaning/blob/main/URL_Cleaning.ipynb\" target=\"_parent\"><img src=\"https://colab.research.google.com/assets/colab-badge.svg\" alt=\"Open In Colab\"/></a>"
      ]
    },
    {
      "cell_type": "markdown",
      "source": [
        "cleanurl removes clutter from URLs and return a canonicalized version.One has to install it using pip command"
      ],
      "metadata": {
        "id": "LSkPUiYEnT4z"
      }
    },
    {
      "cell_type": "code",
      "source": [
        "!pip install cleanurl"
      ],
      "metadata": {
        "id": "10GShQBiLzDr"
      },
      "execution_count": null,
      "outputs": []
    },
    {
      "cell_type": "code",
      "execution_count": null,
      "metadata": {
        "id": "HEZjRD-2Uf6w"
      },
      "outputs": [],
      "source": [
        "from urllib.parse import urlparse"
      ]
    },
    {
      "cell_type": "markdown",
      "source": [
        "Pre-requisite - pandas , requestes, pathlib modules/Libraries to be installed using pip"
      ],
      "metadata": {
        "id": "LNnHbrS_n1cX"
      }
    },
    {
      "cell_type": "code",
      "source": [
        "import cleanurl\n",
        "import pandas as pd\n",
        "import requests\n",
        "import pathlib\n",
        "import re"
      ],
      "metadata": {
        "id": "7Be0918kLzT_"
      },
      "execution_count": null,
      "outputs": []
    },
    {
      "cell_type": "markdown",
      "source": [
        "Function to remove unwanted part from the URL and extracting only relevant string /query"
      ],
      "metadata": {
        "id": "9sdTmeD6ocFU"
      }
    },
    {
      "cell_type": "code",
      "source": [
        "def extract_sentence(collection_of_url):\n",
        "     # Extracting extension of file to covert it into a dataframe using appropriate method\n",
        "     ext=pathlib.Path(collection_of_url).suffix\n",
        "     keyval = 1\n",
        "     bad_chars = [\"-\",\"video\"]\n",
        "     list_of_queries=[]\n",
        "     #code to convert & clean dataframe extraxcted from csv file\n",
        "     if ext=='.csv':\n",
        "        df = pd.read_csv(collection_of_url)\n",
        "        query = df['url']\n",
        "        for row in query:\n",
        "            r = cleanurl.cleanurl(row)\n",
        "            parsed_url = urlparse(r.url)\n",
        "            if parsed_url.netloc != 'youtu.be':\n",
        "               test_str = parsed_url.path\n",
        "               for i in bad_chars:\n",
        "                   test_str = test_str.replace(i, ' ')\n",
        "               list_of_queries.append(test_str.split('/'))\n",
        "\n",
        "     else:\n",
        "        #code to convert & clean any url\n",
        "        query=collection_of_url\n",
        "        r=cleanurl.cleanurl(query)\n",
        "        parsed_url=urlparse(r.url)\n",
        "        if parsed_url.netloc != 'youtu.be':\n",
        "               test_str = parsed_url.path\n",
        "               for i in bad_chars:\n",
        "                   test_str = test_str.replace(i, ' ')\n",
        "               list_of_queries.append(test_str.split('/'))\n",
        "     # for displaying extracted string(s) from the URL\n",
        "     track=1\n",
        "     final_row=[]\n",
        "     #fetching each URL one by one in case .csv file\n",
        "     for row in list_of_queries:\n",
        "          final_row=row[-1].split()\n",
        "          #More cleaning done as one word URL is irrelevant(having junk characters) thus excluding it\n",
        "          if len(final_row)==0 or len(final_row)==1:\n",
        "            pass\n",
        "          else:\n",
        "             str_final=' '.join(final_row)\n",
        "             print(track,\" \",str_final)\n",
        "             track=track+1\n",
        "\n"
      ],
      "metadata": {
        "id": "FqoPtcnnXZVe"
      },
      "execution_count": null,
      "outputs": []
    },
    {
      "cell_type": "code",
      "source": [
        "#Accepting URL / .csv of URLs for cleaning\n",
        "input_url=input(\"Enter URL to be cleaned\")\n",
        "extract_sentence(input_url)"
      ],
      "metadata": {
        "id": "pPhbB1qEV9yr",
        "outputId": "84010449-b1c7-42c8-ca89-700e88260cc8",
        "colab": {
          "base_uri": "https://localhost:8080/"
        }
      },
      "execution_count": null,
      "outputs": [
        {
          "output_type": "stream",
          "name": "stdout",
          "text": [
            "Enter URL to be cleanedhttps://raw.githubusercontent.com/kennethtangca/CanTekWebScraping/main/To%20TekTeam/Is%20Michael%20Saylor%20saying%20he%20will%20give%20away%20free%20bitcoin.csv\n",
            "1   microstrategy michael saylor deepfake bitcoin scams\n",
            "2   c19e9 michael saylor deepfake scams microstrategy\n",
            "3   btc worth 1 1 million sent to a confirmed michael saylor giveaway scam\n",
            "4   michael saylor says microstrategy will buy bitcoin forever\n",
            "5   microstrategys michael saylor giving away bitcoin details\n",
            "6   bitcoin michael saylor giveaway scam\n",
            "7   giveaway scam microstrategy\n",
            "8   fake michael saylor giveaway costs bitcoin user 179k\n",
            "9   michael saylor issues critical warning to btc holders 3274085\n",
            "10   michael saylor says there is no reason to sell bitcoin anytime soon\n",
            "11   michael saylor to forever buy bitcoin no reason to sell the winner 202402211058\n",
            "12   michael saylor giveaway scam\n",
            "13   michael saylor claims will continue to buy bitcoin\n",
            "14   someone just sent 100k worth of btc to a michael saylor giveaway scam wallet\n",
            "15   this bitcoiner just lost 26 btc worth over a million dollars to a michael saylor giveaway scam\n",
            "16   scammers posing michael saylor steal 090715365\n",
            "17   56980 bitcoin users send 1 14 million for michael saylor giveaway\n",
            "18   bitcoin user loses record 1 1m scam michael saylor giveaway\n",
            "19   fake michael saylor giveaway costs 160000501\n",
            "20   michael saylor impersonated to run giveaway scam\n",
            "21   avoid microstrategyfund bitcoin giveaway scam\n",
            "22   microstrategy michael saylor removing 80 ai scam s daily\n",
            "23   michael saylor alerts bitcoin community amid rising tide of deepfake scams\n",
            "24   michael saylor bitcoins biggest convert\n",
            "25   michael creadon_thinking a lot lately about michael saylor activity 7112542001824243712 i603\n",
            "26   microstrategy ceo saylor says no margin call on bitcoin loan 1.1778757\n",
            "27   53880cca 910a 4e31 96b7 de6e7776ab9b\n",
            "28   how did michael saylor make his money\n",
            "29   michael saylor says if bitcoin not going to 553902_0\n",
            "30   a conversation on crypto with michael saylor\n",
            "31   michael saylor bitcoin chair\n",
            "32   bitcoin whale microstrategy michael saylor urges governments to regulate crypto\n",
            "33   who bitcoin billionaire michael saylor microstrategy ceos\n",
            "34   michael saylor warns public on rampant scams\n",
            "35   microstrategys bitcoin bet produces 300percent gain for investors in 2023\n",
            "36   michael saylor net worth the man with the most bitcoin\n",
            "37   michael saylor quits as microstrategy ceo after bitcoin losses\n",
            "38   heres why michael saylor and microstrategy are buy\n",
            "39   michael saylor deep dive on bitcoin energy misconceptions\n",
            "40   michael saylor giveaway scam by impersonator strips bitcoin investors for 1 1 million\n",
            "41   bitcoin etfs register the biggest single day trading volume whales accumulate\n",
            "42   michael saylors billion dollar bitcoin bet has rebounded\n",
            "43   bitcoin price boom michael saylor microstrategy\n",
            "44   bitcoins demand to skyrocket tenfold says michael saylor f1bbfaba69b0\n",
            "45   double your bitcoin scam\n",
            "46   michael saylor coming cryptocurrency era\n",
            "47   bitcoin etf hype reaches new heights\n",
            "48   hey michael saylor i have 1 percent of 1 bitcoin xgvvxnn\n",
            "49   michael saylor s microstrategy repays silvergate loan and buys 6 5k btc\n",
            "50   microstrategy s mstr saylor says bitcoin btc market share will climb to 80\n",
            "51   cardanos charles hoskinson blasts ripples litigation strategy in xrp lawsuit\n",
            "52   michael saylor tucker carlson full free\n",
            "53   microstrategys michael saylor bitcoin emerging safe haven\n",
            "54   michael saylor offloads mstr\n",
            "55   michael saylor bitcoin etf\n",
            "56   michael saylor promotes economic empowerment with free bitcoin for everybody course\n",
            "57   85cd9d93db8ff6bdd6a0bdb8982331fdadad06640e42f54e6386a2549fba64df_after breaking all time high%2c is bitget%e2%80%99s bgb token poised for more growth in 2024%3f\n",
            "58   is microstrategy still a leveraged bitcoin play\n",
            "59   defi on btc blockchain could accumulate 225b pantera capital says\n",
            "60   a new crypto scam shows perils of elon musks twitter\n",
            "61   bitcoin hodler saylor says microstrategy will never sell stash\n",
            "62   bitcoin billionaire saylor tax lawsuit\n",
            "63   michael saylor on ai generated deepfake\n",
            "64   michael saylor says demand outstrips supply by 10x is he right 02772436\n",
            "65   4067710 microstrategys 10b bitcoin stash sits on 70 unrealized profit\n",
            "66   michael saylor has no interest in selling bitcoin calls it an exit strategy coindesk japan 9c6091e262\n",
            "67   20 feb dollar eth cracks dollar 3k xqqvrzl\n",
            "68   bet on bitcoin 10 million this is why\n",
            "69   michael saylor dismisses bitcoin loan margin call twitter famous\n",
            "70   michael saylor says microstrategy will never sell its bitcoin\n",
            "71   michael saylors microstrategy bitcoin holdings worth over 10b\n",
            "72   microstrategy ceo saylor says bitcoins near term volatility largely irrelevant\n",
            "73   bitcoin spot etf michael saylor says investing in microstrategy is closest youll get\n",
            "74   bitcoin price likely to fall but microstrategys 12 billion market cap makes it a possible sp 500 candidate 202402211900\n",
            "75   microstrategys michael saylor reveals his ultimate bitcoin exit strategy 78650b15b1\n",
            "76   btc millionaire shares outlook on bitcoins soaring future polkadot and emerging ai altcoin seen as attractive investments\n",
            "77   bitcoin price prediction btc bull michael saylor says no reason to sell the winner and buy losers as analysts predict this bitcoin derivative might 10x\n",
            "78   michael saylor no reason to sell bitcoin\n",
            "79   redrochain com bitcoin scam understanding the promo code rip off\n",
            "80   michael saylor says he will never stop buying bitcoin tbt80338\n",
            "81   microstrategyas michael saylor we are glad we adopted bitcoin\n",
            "82   microstrategys michael saylor says hold onto bitcoin and stomach the volatility\n",
            "83   michael saylor crypto outlook bitcoin 2023 xrp jumps cnbc crypto world\n",
            "84   watch cnbcs full interview with microstrategy ceo michael saylor at bitcoin 2022\n",
            "85   microstrategys michael saylor says this is the decade of bitcoin\n"
          ]
        }
      ]
    },
    {
      "cell_type": "code",
      "source": [],
      "metadata": {
        "id": "wvT6EmMGsnip"
      },
      "execution_count": null,
      "outputs": []
    }
  ]
}